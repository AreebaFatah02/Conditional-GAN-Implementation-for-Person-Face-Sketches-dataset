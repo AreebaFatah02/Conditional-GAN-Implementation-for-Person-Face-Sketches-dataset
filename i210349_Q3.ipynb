{
 "cells": [
  {
   "attachments": {
    "image.png": {
     "image/png": "[encoded data removed]"
    }
   },
   "cell_type": "markdown",
   "metadata": {},
   "source": [
    "***\n",
    "\n",
    "***\n",
    "\n",
    "# <div align=\"center\"><font color='RED'><b>AREEBA FATAH </b></font></div>\n",
    "\n",
    "***\n",
    "\n",
    "# <div align=\"center\"><font color='BLUE'><b>GENERATIVE AI</b></font></div>\n",
    "\n",
    "***\n",
    "\n",
    "# <div align=\"center\"><font color='RED'><b>21I-0349</b></font></div>\n",
    "\n",
    "***\n",
    "\n",
    "# <div align=\"center\"><font color='BLUE'><b>ASSIGNMENT 2</b></font></div>\n",
    "\n",
    "***\n",
    "\n",
    "# <div align=\"center\"><font color='RED'><b>QUESTION 3 </b></font></div>\n",
    "\n",
    "\n",
    "\n",
    "\n",
    "\n",
    "<br>![image.png](attachment:image.png)"
   ]
  },
  {
   "cell_type": "markdown",
   "metadata": {
    "id": "9nXlv7E9LvW-"
   },
   "source": [
    "# STEP 1: IMPORTING THE REQUIRED LIBRARIES"
   ]
  },
  {
   "cell_type": "code",
   "execution_count": 3,
   "metadata": {
    "execution": {
     "iopub.execute_input": "2024-10-20T15:51:08.060460Z",
     "iopub.status.busy": "2024-10-20T15:51:08.060086Z",
     "iopub.status.idle": "2024-10-20T15:51:12.266282Z",
     "shell.execute_reply": "2024-10-20T15:51:12.265453Z",
     "shell.execute_reply.started": "2024-10-20T15:51:08.060415Z"
    }
   },
   "outputs": [],
   "source": [
    "import torch\n",
    "\n",
    "import torch.nn as nn\n",
    "\n",
    "import torch.optim as optim\n",
    "\n",
    "from torch.utils.data import Dataset,DataLoader\n",
    "\n",
    "from torchvision import transforms\n",
    "\n",
    "from PIL import Image\n",
    "\n",
    "import os\n",
    "\n",
    "import matplotlib.pyplot as plt\n",
    "\n",
    "import pickle\n",
    "\n",
    "import torch.nn as nn"
   ]
  },
  {
   "cell_type": "markdown",
   "metadata": {
    "id": "9nXlv7E9LvW-"
   },
   "source": [
    "## 1.1 SETTING UP THE DEVICE"
   ]
  },
  {
   "cell_type": "code",
   "execution_count": 4,
   "metadata": {
    "execution": {
     "iopub.execute_input": "2024-10-20T15:51:12.268213Z",
     "iopub.status.busy": "2024-10-20T15:51:12.267834Z",
     "iopub.status.idle": "2024-10-20T15:51:12.305029Z",
     "shell.execute_reply": "2024-10-20T15:51:12.303917Z",
     "shell.execute_reply.started": "2024-10-20T15:51:12.268180Z"
    }
   },
   "outputs": [],
   "source": [
    "device=torch.device(\"cuda\" if torch.cuda.is_available() else \"cpu\")"
   ]
  },
  {
   "cell_type": "markdown",
   "metadata": {
    "id": "9nXlv7E9LvW-"
   },
   "source": [
    "# STEP 2: DATA PREPROCESSING AND LOADING\n",
    "\n",
    "**Steps**:\n",
    "\n",
    "    --<br>Reading both the sketches and photos till max limit as dataset is too large.\n",
    "\n",
    "    --<br>Preprocessing data i.e. resizing and normalizing while converting to tensors\n",
    "\n",
    "    --<br>Preparing train loader"
   ]
  },
  {
   "cell_type": "code",
   "execution_count": 5,
   "metadata": {
    "execution": {
     "iopub.execute_input": "2024-10-20T15:51:15.081124Z",
     "iopub.status.busy": "2024-10-20T15:51:15.080468Z",
     "iopub.status.idle": "2024-10-20T15:51:15.089627Z",
     "shell.execute_reply": "2024-10-20T15:51:15.088648Z",
     "shell.execute_reply.started": "2024-10-20T15:51:15.081085Z"
    }
   },
   "outputs": [],
   "source": [
    "class FaceSketchDataset(Dataset):\n",
    "\n",
    "    def __init__(self,sketch_dir,photo_dir,transforms=None,max_images=500):\n",
    "\n",
    "        self.sketch_dir=sketch_dir\n",
    "\n",
    "        self.photo_dir=photo_dir\n",
    "\n",
    "        self.transforms=transforms\n",
    "\n",
    "        self.sketch_images=os.listdir(sketch_dir)[:max_images]\n",
    "\n",
    "        \n",
    "\n",
    "    def __len__(self):\n",
    "\n",
    "        return len(self.sketch_images)\n",
    "\n",
    "    \n",
    "\n",
    "    def __getitem__(self, idx):\n",
    "\n",
    "        sketch_path=os.path.join(self.sketch_dir,self.sketch_images[idx])\n",
    "\n",
    "        photo_path=os.path.join(self.photo_dir,self.sketch_images[idx])\n",
    "\n",
    "        sketch_img=Image.open(sketch_path).convert('L')\n",
    "\n",
    "        photo_img=Image.open(photo_path).convert('RGB')\n",
    "\n",
    "        if self.transforms:\n",
    "\n",
    "            sketch_img=self.transforms[0](sketch_img)\n",
    "\n",
    "            photo_img=self.transforms[1](photo_img)\n",
    "\n",
    "        return sketch_img,photo_img\n"
   ]
  },
  {
   "cell_type": "code",
   "execution_count": 6,
   "metadata": {
    "execution": {
     "iopub.execute_input": "2024-10-20T15:51:17.568151Z",
     "iopub.status.busy": "2024-10-20T15:51:17.567791Z",
     "iopub.status.idle": "2024-10-20T15:51:17.795469Z",
     "shell.execute_reply": "2024-10-20T15:51:17.794664Z",
     "shell.execute_reply.started": "2024-10-20T15:51:17.568117Z"
    }
   },
   "outputs": [],
   "source": [
    "transform_sketch=transforms.Compose([\n",
    "\n",
    "                                    transforms.Resize((256,256)),\n",
    "\n",
    "                                    transforms.ToTensor(),\n",
    "\n",
    "                                    transforms.Normalize(mean=[0.5],std=[0.5])\n",
    "\n",
    "                                    ])\n",
    "\n",
    "\n",
    "\n",
    "transform_photo=transforms.Compose([\n",
    "\n",
    "                                    transforms.Resize((256,256)),\n",
    "\n",
    "                                    transforms.ToTensor(),\n",
    "\n",
    "                                    transforms.Normalize(mean=[0.5,0.5,0.5],std=[0.5,0.5,0.5])\n",
    "\n",
    "                                   ])\n",
    "\n",
    "\n",
    "\n",
    "train_dataset=FaceSketchDataset(\n",
    "\n",
    "                                sketch_dir='/kaggle/input/person-face-sketches/train/sketches',\n",
    "\n",
    "                                photo_dir='/kaggle/input/person-face-sketches/train/photos',\n",
    "\n",
    "                                transforms=(transform_sketch,transform_photo),\n",
    "\n",
    "                                max_images=1000\n",
    "\n",
    "                                )\n",
    "\n",
    "train_loader=DataLoader(train_dataset,batch_size=16,shuffle=True)"
   ]
  },
  {
   "cell_type": "markdown",
   "metadata": {
    "id": "9nXlv7E9LvW-"
   },
   "source": [
    "# STEP 3: DESIGNING CONDITIONAL GAN\n",
    "\n",
    "## 3.1 GENERATOR\n",
    "\n",
    "- **5 Conv2d layers** for downsampling\n",
    "\n",
    "- **4 ConvTranspose2d layers** for upsampling\n",
    "\n",
    "- **ReLU activation** used after each Conv/ConvTranspose layer (except output)\n",
    "\n",
    "- **Tanh activation** at the output layer (to normalize the output between -1 and 1)"
   ]
  },
  {
   "cell_type": "code",
   "execution_count": 7,
   "metadata": {
    "execution": {
     "iopub.execute_input": "2024-10-20T15:51:21.696901Z",
     "iopub.status.busy": "2024-10-20T15:51:21.696050Z",
     "iopub.status.idle": "2024-10-20T15:51:21.707040Z",
     "shell.execute_reply": "2024-10-20T15:51:21.705990Z",
     "shell.execute_reply.started": "2024-10-20T15:51:21.696863Z"
    }
   },
   "outputs": [],
   "source": [
    "class Generator(nn.Module):\n",
    "\n",
    "    def __init__(self):\n",
    "\n",
    "        super(Generator,self).__init__()\n",
    "\n",
    "        self.main=nn.Sequential(\n",
    "\n",
    "            nn.Conv2d(1,64,4,2,1),\n",
    "\n",
    "            nn.ReLU(True),\n",
    "\n",
    "            nn.Conv2d(64,128,4,2,1),\n",
    "\n",
    "            nn.BatchNorm2d(128),\n",
    "\n",
    "            nn.ReLU(True),\n",
    "\n",
    "            nn.Conv2d(128,256,4,2,1),\n",
    "\n",
    "            nn.BatchNorm2d(256),\n",
    "\n",
    "            nn.ReLU(True),\n",
    "\n",
    "            nn.Conv2d(256,512,4,2,1),\n",
    "\n",
    "            nn.BatchNorm2d(512),\n",
    "\n",
    "            nn.ReLU(True),\n",
    "\n",
    "            nn.Conv2d(512,512,4,2,1),\n",
    "\n",
    "            nn.ReLU(True),\n",
    "\n",
    "            nn.ConvTranspose2d(512,512,4,2,1),\n",
    "\n",
    "            nn.BatchNorm2d(512),\n",
    "\n",
    "            nn.ReLU(True),\n",
    "\n",
    "            nn.ConvTranspose2d(512,256,4,2,1),\n",
    "\n",
    "            nn.BatchNorm2d(256),\n",
    "\n",
    "            nn.ReLU(True),\n",
    "\n",
    "            nn.ConvTranspose2d(256,128,4,2,1),\n",
    "\n",
    "            nn.BatchNorm2d(128),\n",
    "\n",
    "            nn.ReLU(True),\n",
    "\n",
    "            nn.ConvTranspose2d(128,64,4,2,1),\n",
    "\n",
    "            nn.BatchNorm2d(64),\n",
    "\n",
    "            nn.ReLU(True),\n",
    "\n",
    "            nn.ConvTranspose2d(64,3,4,2,1),\n",
    "\n",
    "            nn.Tanh()\n",
    "\n",
    "        )\n",
    "\n",
    "\n",
    "\n",
    "    def forward(self,input):\n",
    "\n",
    "        return self.main(input)\n"
   ]
  },
  {
   "cell_type": "markdown",
   "metadata": {},
   "source": [
    "## 3.2 DISCRIMINATOR\n",
    "\n",
    "\n",
    "\n",
    "- **5 Conv2d layers** for downsampling\n",
    "\n",
    "- **LeakyReLU activation** used after each Conv layer (with a negative slope of 0.2)\n",
    "\n",
    "- **BatchNorm2d** applied after the first three Conv layers\n",
    "\n",
    "- **1 Sigmoid activation** at the output layer "
   ]
  },
  {
   "cell_type": "code",
   "execution_count": 8,
   "metadata": {
    "execution": {
     "iopub.execute_input": "2024-10-20T15:51:23.037007Z",
     "iopub.status.busy": "2024-10-20T15:51:23.036275Z",
     "iopub.status.idle": "2024-10-20T15:51:23.045055Z",
     "shell.execute_reply": "2024-10-20T15:51:23.044014Z",
     "shell.execute_reply.started": "2024-10-20T15:51:23.036960Z"
    }
   },
   "outputs": [],
   "source": [
    "class Discriminator(nn.Module):\n",
    "\n",
    "    def __init__(self):\n",
    "\n",
    "        super(Discriminator,self).__init__()\n",
    "\n",
    "        self.main=nn.Sequential(\n",
    "\n",
    "            nn.Conv2d(4,64,4,2,1),\n",
    "\n",
    "            nn.LeakyReLU(0.2,inplace=True),\n",
    "\n",
    "            nn.Conv2d(64,128,4,2,1),\n",
    "\n",
    "            nn.BatchNorm2d(128),\n",
    "\n",
    "            nn.LeakyReLU(0.2,inplace=True),\n",
    "\n",
    "            nn.Conv2d(128,256,4,2,1),\n",
    "\n",
    "            nn.BatchNorm2d(256),\n",
    "\n",
    "            nn.LeakyReLU(0.2,inplace=True),\n",
    "\n",
    "            nn.Conv2d(256,512,4,2,1),\n",
    "\n",
    "            nn.BatchNorm2d(512),\n",
    "\n",
    "            nn.LeakyReLU(0.2,inplace=True),\n",
    "\n",
    "            nn.Conv2d(512,1,4,1,0),\n",
    "\n",
    "            nn.Sigmoid()\n",
    "\n",
    "        )\n",
    "\n",
    "\n",
    "\n",
    "    def forward(self,input):\n",
    "\n",
    "        return self.main(input)\n"
   ]
  },
  {
   "cell_type": "markdown",
   "metadata": {},
   "source": [
    "# STEP 4 : TRAINING\n",
    "\n",
    "Training like the previous questions."
   ]
  },
  {
   "cell_type": "code",
   "execution_count": 23,
   "metadata": {
    "execution": {
     "iopub.execute_input": "2024-10-20T16:22:13.247165Z",
     "iopub.status.busy": "2024-10-20T16:22:13.246449Z",
     "iopub.status.idle": "2024-10-20T16:22:13.392352Z",
     "shell.execute_reply": "2024-10-20T16:22:13.391374Z",
     "shell.execute_reply.started": "2024-10-20T16:22:13.247126Z"
    }
   },
   "outputs": [],
   "source": [
    "G=Generator().to(device)\n",
    "\n",
    "D=Discriminator().to(device)\n",
    "\n",
    "optimizer_G=optim.Adam(G.parameters(),lr=0.0002,betas=(0.5,0.999))\n",
    "\n",
    "optimizer_D=optim.Adam(D.parameters(),lr=0.0002,betas=(0.5,0.999))\n",
    "\n",
    "criterion=nn.BCELoss()"
   ]
  },
  {
   "cell_type": "code",
   "execution_count": 24,
   "metadata": {
    "execution": {
     "iopub.execute_input": "2024-10-20T16:24:43.832244Z",
     "iopub.status.busy": "2024-10-20T16:24:43.831231Z",
     "iopub.status.idle": "2024-10-20T16:24:43.850957Z",
     "shell.execute_reply": "2024-10-20T16:24:43.849789Z",
     "shell.execute_reply.started": "2024-10-20T16:24:43.832191Z"
    }
   },
   "outputs": [],
   "source": [
    "def train(num_epochs=50):\n",
    "\n",
    "    G_losses,D_losses=[],[]\n",
    "\n",
    "    for epoch in range(num_epochs):\n",
    "\n",
    "        for sketches,real_images in train_loader:\n",
    "\n",
    "            batch_size=sketches.size(0)\n",
    "\n",
    "            sketches=sketches.to(device)\n",
    "\n",
    "            real_images=real_images.to(device)\n",
    "\n",
    "            optimizer_D.zero_grad()\n",
    "\n",
    "            real_input=torch.cat((sketches,real_images),1)\n",
    "\n",
    "            real_output=D(real_input)\n",
    "\n",
    "            real_labels=torch.ones_like(real_output).to(device)\n",
    "\n",
    "            fake_images=G(sketches)\n",
    "\n",
    "            fake_input=torch.cat((sketches,fake_images),1)\n",
    "\n",
    "            fake_output=D(fake_input)\n",
    "\n",
    "            fake_labels=torch.zeros_like(fake_output).to(device)\n",
    "\n",
    "            D_loss=(criterion(real_output,real_labels)+criterion(fake_output,fake_labels))/2\n",
    "\n",
    "            D_loss.backward()\n",
    "\n",
    "            optimizer_D.step()\n",
    "\n",
    "            optimizer_G.zero_grad()\n",
    "\n",
    "            fake_images=G(sketches)\n",
    "\n",
    "            fake_input=torch.cat((sketches,fake_images),1)\n",
    "\n",
    "            fake_output=D(fake_input)\n",
    "\n",
    "            G_loss=criterion(fake_output,real_labels)\n",
    "\n",
    "            G_loss.backward()\n",
    "\n",
    "            optimizer_G.step()\n",
    "\n",
    "            G_losses.append(G_loss.item())\n",
    "\n",
    "            D_losses.append(D_loss.item())\n",
    "\n",
    "\n",
    "\n",
    "        if epoch%10==0:\n",
    "\n",
    "            print(f\"Epoch [{epoch+1}/{num_epochs}] | D_loss: {D_loss.item()} | G_loss: {G_loss.item()}\")\n",
    "\n",
    "            num_samples=min(5,sketches.size(0))\n",
    "\n",
    "            sample_sketches=sketches[:num_samples]\n",
    "\n",
    "            generated_images=G(sample_sketches).detach().cpu()\n",
    "\n",
    "            fig,axs=plt.subplots(2,num_samples,figsize=(12,6))\n",
    "\n",
    "            for j in range(num_samples):\n",
    "\n",
    "                axs[0,j].imshow(sample_sketches[j].cpu().squeeze(),cmap='gray')\n",
    "\n",
    "                axs[0,j].axis('off')\n",
    "\n",
    "                axs[1,j].imshow((generated_images[j].permute(1,2,0)+1)/2.0)\n",
    "\n",
    "                axs[1,j].axis('off')\n",
    "\n",
    "            plt.show()\n",
    "\n",
    "\n",
    "\n",
    "    plt.figure(figsize=(10,5))\n",
    "\n",
    "    plt.plot(G_losses,label=\"G Loss\")\n",
    "\n",
    "    plt.plot(D_losses,label=\"D Loss\")\n",
    "\n",
    "    plt.xlabel(\"Iterations\")\n",
    "\n",
    "    plt.ylabel(\"Loss\")\n",
    "\n",
    "    plt.legend()\n",
    "\n",
    "    plt.show()"
   ]
  },
  {
   "cell_type": "code",
   "execution_count": 2,
   "metadata": {
    "execution": {
     "iopub.execute_input": "2024-10-20T16:24:53.930022Z",
     "iopub.status.busy": "2024-10-20T16:24:53.929623Z",
     "iopub.status.idle": "2024-10-20T16:44:30.729755Z",
     "shell.execute_reply": "2024-10-20T16:44:30.728827Z",
     "shell.execute_reply.started": "2024-10-20T16:24:53.929988Z"
    }
   },
   "outputs": [],
   "source": [
    "# train(num_epochs=50)"
   ]
  },
  {
   "cell_type": "code",
   "execution_count": 3,
   "metadata": {
    "execution": {
     "iopub.execute_input": "2024-10-18T20:39:12.170247Z",
     "iopub.status.busy": "2024-10-18T20:39:12.169889Z",
     "iopub.status.idle": "2024-10-18T20:58:43.824422Z",
     "shell.execute_reply": "2024-10-18T20:58:43.823444Z",
     "shell.execute_reply.started": "2024-10-18T20:39:12.170214Z"
    },
    "jupyter": {
     "outputs_hidden": true
    }
   },
   "outputs": [],
   "source": [
    "# train(num_epochs=50)"
   ]
  },
  {
   "cell_type": "markdown",
   "metadata": {},
   "source": [
    "# STEP 4: SAVING MODEL"
   ]
  },
  {
   "cell_type": "code",
   "execution_count": 26,
   "metadata": {
    "execution": {
     "iopub.execute_input": "2024-10-20T16:44:30.731746Z",
     "iopub.status.busy": "2024-10-20T16:44:30.731420Z",
     "iopub.status.idle": "2024-10-20T16:44:30.862603Z",
     "shell.execute_reply": "2024-10-20T16:44:30.861227Z",
     "shell.execute_reply.started": "2024-10-20T16:44:30.731692Z"
    }
   },
   "outputs": [],
   "source": [
    "def save_model_to_pickle(model,filename):\n",
    "\n",
    "    with open(filename, 'wb') as file:\n",
    "\n",
    "        pickle.dump(model, file)\n",
    "\n",
    "save_model_to_pickle(G, 'generator_model_3.pkl')\n",
    "\n",
    "save_model_to_pickle(D, 'discriminator_model_3.pkl')"
   ]
  },
  {
   "cell_type": "code",
   "execution_count": 12,
   "metadata": {
    "execution": {
     "iopub.execute_input": "2024-10-20T15:56:40.749814Z",
     "iopub.status.busy": "2024-10-20T15:56:40.749391Z",
     "iopub.status.idle": "2024-10-20T15:56:40.866646Z",
     "shell.execute_reply": "2024-10-20T15:56:40.865877Z",
     "shell.execute_reply.started": "2024-10-20T15:56:40.749772Z"
    }
   },
   "outputs": [],
   "source": [
    "def load_model_from_pickle(filename):\n",
    "\n",
    "    with open(filename,'rb') as file:\n",
    "\n",
    "        model=pickle.load(file)\n",
    "\n",
    "    return model\n",
    "\n",
    "\n",
    "\n",
    "G = load_model_from_pickle('/kaggle/input/model_3/pytorch/default/1/discriminator_model_3.pkl')\n",
    "\n",
    "D = load_model_from_pickle('/kaggle/input/model_3/pytorch/default/1/generator_model_3.pkl')"
   ]
  },
  {
   "cell_type": "code",
   "execution_count": 1,
   "metadata": {
    "execution": {
     "iopub.execute_input": "2024-10-20T15:58:43.076385Z",
     "iopub.status.busy": "2024-10-20T15:58:43.075534Z",
     "iopub.status.idle": "2024-10-20T16:18:36.517422Z",
     "shell.execute_reply": "2024-10-20T16:18:36.516469Z",
     "shell.execute_reply.started": "2024-10-20T15:58:43.076345Z"
    }
   },
   "outputs": [],
   "source": [
    "# train(num_epochs=50)"
   ]
  },
  {
   "cell_type": "markdown",
   "metadata": {},
   "source": [
    "# STEP 5 TESTING"
   ]
  },
  {
   "cell_type": "code",
   "execution_count": 18,
   "metadata": {
    "execution": {
     "iopub.execute_input": "2024-10-20T16:18:48.774303Z",
     "iopub.status.busy": "2024-10-20T16:18:48.773934Z",
     "iopub.status.idle": "2024-10-20T16:18:48.781341Z",
     "shell.execute_reply": "2024-10-20T16:18:48.780570Z",
     "shell.execute_reply.started": "2024-10-20T16:18:48.774267Z"
    }
   },
   "outputs": [],
   "source": [
    "test_dataset=FaceSketchDataset(\n",
    "\n",
    "                                sketch_dir='/kaggle/input/person-face-sketches/test/sketches',\n",
    "\n",
    "                                photo_dir='/kaggle/input/person-face-sketches/test/photos',\n",
    "\n",
    "                                transforms=(transform_sketch,transform_photo),\n",
    "\n",
    "                                max_images=1000\n",
    "\n",
    "                                )\n",
    "\n",
    "test_loader=DataLoader(test_dataset,batch_size=16,shuffle=True)"
   ]
  },
  {
   "cell_type": "code",
   "execution_count": 4,
   "metadata": {
    "execution": {
     "iopub.execute_input": "2024-10-20T16:44:30.864097Z",
     "iopub.status.busy": "2024-10-20T16:44:30.863820Z",
     "iopub.status.idle": "2024-10-20T16:45:04.684008Z",
     "shell.execute_reply": "2024-10-20T16:45:04.682163Z",
     "shell.execute_reply.started": "2024-10-20T16:44:30.864067Z"
    }
   },
   "outputs": [],
   "source": [
    "def test(test_loader):\n",
    "    G.eval()\n",
    "    G_losses, D_losses = [], []\n",
    "    with torch.no_grad():\n",
    "        for sketches, real_images in test_loader:\n",
    "            sketches = sketches.to(device)\n",
    "            real_images = real_images.to(device)\n",
    "            generated_images = G(sketches).detach().cpu()\n",
    "            num_samples = min(5, sketches.size(0))\n",
    "            sample_sketches = sketches[:num_samples]\n",
    "            fig, axs = plt.subplots(2, num_samples, figsize=(12, 6))\n",
    "            for j in range(num_samples):\n",
    "                axs[0, j].imshow(sample_sketches[j].cpu().squeeze(), cmap='gray')\n",
    "                axs[0, j].axis('off')\n",
    "                axs[1, j].imshow((generated_images[j].permute(1, 2, 0) + 1) / 2.0)\n",
    "                axs[1, j].axis('off')\n",
    "            plt.show()\n",
    "            real_output = D(torch.cat((sketches, real_images), 1))\n",
    "            real_labels = torch.ones_like(real_output).to(device)\n",
    "            fake_output = D(torch.cat((sketches, generated_images.to(device)), 1))\n",
    "            fake_labels = torch.zeros_like(fake_output).to(device)\n",
    "            D_loss = (criterion(real_output, real_labels) + criterion(fake_output, fake_labels)) / 2\n",
    "            G_loss = criterion(fake_output, real_labels)\n",
    "            G_losses.append(G_loss.item())\n",
    "            D_losses.append(D_loss.item())\n",
    "    plt.figure(figsize=(10, 5))\n",
    "    plt.plot(G_losses, label='G Validation Loss')\n",
    "    plt.plot(D_losses, label='D Validation Loss')\n",
    "    plt.xlabel('Iterations')\n",
    "    plt.ylabel('Loss')\n",
    "    plt.legend()\n",
    "    plt.show()\n",
    "# test(test_loader)"
   ]
  },
  {
   "cell_type": "markdown",
   "metadata": {
    "id": "dSAhtd6BLvXG"
   },
   "source": [
    "***"
   ]
  },
  {
   "cell_type": "markdown",
   "metadata": {},
   "source": [
    "# <div style=\"text-align: center;\">End</div>\n"
   ]
  },
  {
   "cell_type": "markdown",
   "metadata": {},
   "source": [
    "***"
   ]
  }
 ],
 "metadata": {
  "kaggle": {
   "accelerator": "gpu",
   "dataSources": [
    {
     "datasetId": 2151228,
     "sourceId": 3724153,
     "sourceType": "datasetVersion"
    },
    {
     "isSourceIdPinned": true,
     "modelId": 142976,
     "modelInstanceId": 119738,
     "sourceId": 141351,
     "sourceType": "modelInstanceVersion"
    }
   ],
   "dockerImageVersionId": 30787,
   "isGpuEnabled": true,
   "isInternetEnabled": true,
   "language": "python",
   "sourceType": "notebook"
  },
  "kernelspec": {
   "display_name": "Python 3 (ipykernel)",
   "language": "python",
   "name": "python3"
  },
  "language_info": {
   "codemirror_mode": {
    "name": "ipython",
    "version": 3
   },
   "file_extension": ".py",
   "mimetype": "text/x-python",
   "name": "python",
   "nbconvert_exporter": "python",
   "pygments_lexer": "ipython3",
   "version": "3.11.5"
  }
 },
 "nbformat": 4,
 "nbformat_minor": 4
}
